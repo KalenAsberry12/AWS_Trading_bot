{
 "cells": [
  {
   "cell_type": "code",
   "execution_count": 12,
   "metadata": {},
   "outputs": [],
   "source": [
    "import alpaca_trade_api as tradeapi\n",
    "import time\n",
    "import datetime\n",
    "from datetime import timedelta\n",
    "from pytz import timezone\n",
    "tz = timezone('EST')"
   ]
  },
  {
   "cell_type": "code",
   "execution_count": 13,
   "metadata": {},
   "outputs": [],
   "source": [
    "import numpy as np\n",
    "import pandas as pd\n",
    "from dotenv import load_dotenv\n",
    "import os"
   ]
  },
  {
   "cell_type": "code",
   "execution_count": 14,
   "metadata": {},
   "outputs": [
    {
     "data": {
      "text/plain": [
       "True"
      ]
     },
     "execution_count": 14,
     "metadata": {},
     "output_type": "execute_result"
    }
   ],
   "source": [
    "load_dotenv()"
   ]
  },
  {
   "cell_type": "code",
   "execution_count": 15,
   "metadata": {},
   "outputs": [],
   "source": [
    "alpaca_api_key = os.getenv(\"API_PUBLIC_KEY\")\n",
    "alpaca_secret_key = os.getenv(\"API_SECRET_KEY\")"
   ]
  },
  {
   "cell_type": "code",
   "execution_count": 16,
   "metadata": {},
   "outputs": [],
   "source": [
    "api = tradeapi.REST(alpaca_api_key,\n",
    "                    alpaca_secret_key,\n",
    "                    'https://paper-api.alpaca.markets')"
   ]
  },
  {
   "cell_type": "code",
   "execution_count": null,
   "metadata": {},
   "outputs": [
    {
     "name": "stdout",
     "output_type": "stream",
     "text": [
      "test:\n",
      "                               AA                                          \\\n",
      "                             open    high     low   close volume fast_ema   \n",
      "time                                                                        \n",
      "2020-10-09 14:20:00-04:00  12.700  12.700  12.700  12.700   1008      NaN   \n",
      "2020-10-09 14:25:00-04:00  12.700  12.710  12.700  12.705   8346      NaN   \n",
      "2020-10-09 14:30:00-04:00  12.710  12.750  12.710  12.730   9712      NaN   \n",
      "2020-10-09 14:35:00-04:00  12.735  12.745  12.705  12.715   6841      NaN   \n",
      "2020-10-09 14:40:00-04:00  12.710  12.750  12.690  12.750  10554    12.72   \n",
      "\n",
      "                                    \n",
      "                          slow_ema  \n",
      "time                                \n",
      "2020-10-09 14:20:00-04:00      NaN  \n",
      "2020-10-09 14:25:00-04:00      NaN  \n",
      "2020-10-09 14:30:00-04:00      NaN  \n",
      "2020-10-09 14:35:00-04:00      NaN  \n",
      "2020-10-09 14:40:00-04:00      NaN  \n",
      "run_checker started\n",
      "Market closed (2020-10-10 14:02:26.429904-05:00)\n",
      "Sleeping 43.46 hours\n"
     ]
    }
   ],
   "source": [
    "import logging\n",
    "logging.basicConfig(filename='./apca_algo.log', format='%(name)s - %(levelname)s - %(message)s')\n",
    "logging.warning('{} logging started'.format(datetime.datetime.now().strftime(\"%x %X\")))\n",
    "\n",
    "def get_data_bars(symbols, rate, slow, fast):\n",
    "\n",
    "    data = api.get_barset(symbols, rate, limit=20).df\n",
    "\n",
    "    for x in symbols:\n",
    "        data.loc[:, (x, 'fast_ema')] = data[x]['close'].rolling(window=fast).mean()\n",
    "        data.loc[:, (x, 'slow_ema')] = data[x]['close'].rolling(window=slow).mean()\n",
    "    return data\n",
    "\n",
    "def get_signal_bars(symbol_list, rate, ema_slow, ema_fast):\n",
    "    data = get_data_bars(symbol_list, rate, ema_slow, ema_fast)\n",
    "    signals = {}\n",
    "    for x in symbol_list:\n",
    "        if data[x].iloc[-1]['fast_ema'] > data[x].iloc[-1]['slow_ema']: signal = 1\n",
    "        else: signal = 0\n",
    "        signals[x] = signal\n",
    "    return signals\n",
    "\n",
    "def time_to_open(current_time):\n",
    "    if current_time.weekday() <= 4:\n",
    "        d = (current_time + timedelta(days=1)).date()\n",
    "    else:\n",
    "        days_to_mon = 0 - current_time.weekday() + 7\n",
    "        d = (current_time + timedelta(days=days_to_mon)).date()\n",
    "    next_day = datetime.datetime.combine(d, datetime.time(9, 30, tzinfo=tz))\n",
    "    seconds = (next_day - current_time).total_seconds()\n",
    "    return seconds\n",
    "\n",
    "def run_checker(stocklist):\n",
    "    print('run_checker started')\n",
    "    while True:\n",
    "        # Check if Monday-Friday\n",
    "        if datetime.datetime.now(tz).weekday() >= 0 and datetime.datetime.now(tz).weekday() <= 4:\n",
    "            # Checks market is open\n",
    "            print('Trading day')\n",
    "            if datetime.datetime.now(tz).time() > datetime.time(9, 30) and datetime.datetime.now(tz).time() <= datetime.time(15, 30):\n",
    "                signals = get_signal_bars(stocklist, '5Min', 20, 5)\n",
    "                for signal in signals:\n",
    "                    if signals[signal] == 1:\n",
    "                        if signal not in [x.symbol for x in api.list_positions()]:\n",
    "                            logging.warning('{} {} - {}'.format(datetime.datetime.now(tz).strftime(\"%x %X\"), signal, signals[signal]))\n",
    "                            api.submit_order(signal, 1, 'buy', 'market', 'day')\n",
    "                            # print(datetime.datetime.now(tz).strftime(\"%x %X\"), 'buying', signals[signal], signal)\n",
    "                    else:\n",
    "                        try:\n",
    "                            api.submit_order(signal, 1, 'sell', 'market', 'day')\n",
    "                            logging.warning('{} {} - {}'.format(datetime.datetime.now(tz).strftime(\"%x %X\"), signal, signals[signal]))\n",
    "                        except Exception as e:\n",
    "                            # print('No sell', signal, e)\n",
    "                            pass\n",
    "\n",
    "                time.sleep(60)\n",
    "            else:\n",
    "                # Get time amount until open, sleep that amount\n",
    "                print('Market closed ({})'.format(datetime.datetime.now(tz)))\n",
    "                print('Sleeping', round(time_to_open(datetime.datetime.now(tz))/60/60, 2), 'hours')\n",
    "                time.sleep(time_to_open(datetime.datetime.now(tz)))\n",
    "        else:\n",
    "            # If not trading day, find out how much until open, sleep that amount\n",
    "            print('Market closed ({})'.format(datetime.datetime.now(tz)))\n",
    "            print('Sleeping', round(time_to_open(datetime.datetime.now(tz))/60/60, 2), 'hours')\n",
    "            time.sleep(time_to_open(datetime.datetime.now(tz)))\n",
    "\n",
    "stocks = ['AA','AAL','AAPL','AIG','AMAT','AMC','AMD',\n",
    "          'AMGN','AMZN','APA','BA','BABA','BAC','BBY',\n",
    "          'BIDU','BP','C','CAT','CMG','COP','COST',\n",
    "          'CSCO','CVX','DAL','DIA','DIS','EBAY',]\n",
    "\n",
    "print('test:')\n",
    "print(get_data_bars(['AA'], '5Min', 20, 5).head())\n",
    "\n",
    "run_checker(stocks)"
   ]
  },
  {
   "cell_type": "code",
   "execution_count": null,
   "metadata": {},
   "outputs": [],
   "source": []
  }
 ],
 "metadata": {
  "kernelspec": {
   "display_name": "Python 3",
   "language": "python",
   "name": "python3"
  },
  "language_info": {
   "codemirror_mode": {
    "name": "ipython",
    "version": 3
   },
   "file_extension": ".py",
   "mimetype": "text/x-python",
   "name": "python",
   "nbconvert_exporter": "python",
   "pygments_lexer": "ipython3",
   "version": "3.7.7"
  }
 },
 "nbformat": 4,
 "nbformat_minor": 4
}
