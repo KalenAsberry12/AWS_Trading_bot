{
 "cells": [
  {
   "cell_type": "code",
   "execution_count": 11,
   "metadata": {},
   "outputs": [],
   "source": [
    "import alpaca_trade_api as tradeapi\n",
    "import time\n",
    "import datetime\n",
    "from datetime import timedelta\n",
    "from pytz import timezone\n",
    "tz = timezone('EST')"
   ]
  },
  {
   "cell_type": "code",
   "execution_count": 12,
   "metadata": {},
   "outputs": [],
   "source": [
    "from dotenv import load_dotenv\n",
    "import numpy as np\n",
    "import pandas as pd\n",
    "import os"
   ]
  },
  {
   "cell_type": "code",
   "execution_count": 13,
   "metadata": {},
   "outputs": [
    {
     "data": {
      "text/plain": [
       "True"
      ]
     },
     "execution_count": 13,
     "metadata": {},
     "output_type": "execute_result"
    }
   ],
   "source": [
    "load_dotenv()"
   ]
  },
  {
   "cell_type": "code",
   "execution_count": 15,
   "metadata": {},
   "outputs": [],
   "source": [
    "alpaca_api_key = os.getenv(\"ALPACA_API_KEY\")\n",
    "alpaca_secret_key = os.getenv(\"ALPACA_SECRET_KEY\")"
   ]
  },
  {
   "cell_type": "code",
   "execution_count": 16,
   "metadata": {},
   "outputs": [],
   "source": [
    "api = tradeapi.REST(alpaca_api_key,\n",
    "                    alpaca_secret_key,\n",
    "                    'https://paper-api.alpaca.markets')"
   ]
  },
  {
   "cell_type": "code",
   "execution_count": 17,
   "metadata": {},
   "outputs": [],
   "source": [
    "import logging\n",
    "logging.basicConfig(filename='./apca_algo.log', format='%(name)s - %(levelname)s - %(message)s')\n",
    "logging.warning('{} logging started'.format(datetime.datetime.now().strftime(\"%x %X\")))\n"
   ]
  },
  {
   "cell_type": "code",
   "execution_count": 18,
   "metadata": {},
   "outputs": [],
   "source": [
    "\n",
    "def get_data_bars(symbols, rate, slow, fast):\n",
    "\n",
    "    data = api.get_barset(symbols, rate, limit=20).df\n",
    "\n",
    "    for x in symbols:\n",
    "        data.loc[:, (x, 'fast_ema')] = data[x]['close'].rolling(window=fast).mean()\n",
    "        data.loc[:, (x, 'slow_ema')] = data[x]['close'].rolling(window=slow).mean()\n",
    "    return data"
   ]
  },
  {
   "cell_type": "code",
   "execution_count": 19,
   "metadata": {},
   "outputs": [],
   "source": [
    "def get_signal_bars(symbol_list, rate, ema_slow, ema_fast):\n",
    "    data = get_data_bars(symbol_list, rate, ema_slow, ema_fast)\n",
    "    signals = {}\n",
    "    for x in symbol_list:\n",
    "        if data[x].iloc[-1]['fast_ema'] > data[x].iloc[-1]['slow_ema']: signal = 1\n",
    "        else: signal = 0\n",
    "        signals[x] = signal\n",
    "    return signals"
   ]
  },
  {
   "cell_type": "code",
   "execution_count": 20,
   "metadata": {},
   "outputs": [],
   "source": [
    "def time_to_open(current_time):\n",
    "    if current_time.weekday() <= 4:\n",
    "        d = (current_time + timedelta(days=1)).date()\n",
    "    else:\n",
    "        days_to_mon = 0 - current_time.weekday() + 7\n",
    "        d = (current_time + timedelta(days=days_to_mon)).date()\n",
    "    next_day = datetime.datetime.combine(d, datetime.time(9, 30, tzinfo=tz))\n",
    "    seconds = (next_day - current_time).total_seconds()\n",
    "    return seconds"
   ]
  },
  {
   "cell_type": "code",
   "execution_count": 21,
   "metadata": {},
   "outputs": [],
   "source": [
    "def run_checker(stocklist):\n",
    "    print('run_checker started')\n",
    "    while True:\n",
    "        # Check if Monday-Friday\n",
    "        if datetime.datetime.now(tz).weekday() >= 0 and datetime.datetime.now(tz).weekday() <= 4:\n",
    "            # Checks market is open\n",
    "            print('Trading day')\n",
    "            if datetime.datetime.now(tz).time() > datetime.time(9, 30) and datetime.datetime.now(tz).time() <= datetime.time(15, 30):\n",
    "                signals = get_signal_bars(stocklist, '5Min', 20, 5)\n",
    "                for signal in signals:\n",
    "                    if signals[signal] == 1:\n",
    "                        if signal not in [x.symbol for x in api.list_positions()]:\n",
    "                            logging.warning('{} {} - {}'.format(datetime.datetime.now(tz).strftime(\"%x %X\"), signal, signals[signal]))\n",
    "                            api.submit_order(signal, 1, 'buy', 'market', 'day')\n",
    "                            # print(datetime.datetime.now(tz).strftime(\"%x %X\"), 'buying', signals[signal], signal)\n",
    "                    else:\n",
    "                        try:\n",
    "                            api.submit_order(signal, 1, 'sell', 'market', 'day')\n",
    "                            logging.warning('{} {} - {}'.format(datetime.datetime.now(tz).strftime(\"%x %X\"), signal, signals[signal]))\n",
    "                        except Exception as e:\n",
    "                            # print('No sell', signal, e)\n",
    "                            pass\n",
    "\n",
    "                time.sleep(60)\n",
    "            else:\n",
    "                # Get time amount until open, sleep that amount\n",
    "                print('Market closed ({})'.format(datetime.datetime.now(tz)))\n",
    "                print('Sleeping', round(time_to_open(datetime.datetime.now(tz))/60/60, 2), 'hours')\n",
    "                time.sleep(time_to_open(datetime.datetime.now(tz)))\n",
    "        else:\n",
    "            # If not trading day, find out how much until open, sleep that amount\n",
    "            print('Market closed ({})'.format(datetime.datetime.now(tz)))\n",
    "            print('Sleeping', round(time_to_open(datetime.datetime.now(tz))/60/60, 2), 'hours')\n",
    "            time.sleep(time_to_open(datetime.datetime.now(tz)))\n"
   ]
  },
  {
   "cell_type": "code",
   "execution_count": 22,
   "metadata": {},
   "outputs": [
    {
     "data": {
      "text/html": [
       "<div>\n",
       "<style scoped>\n",
       "    .dataframe tbody tr th:only-of-type {\n",
       "        vertical-align: middle;\n",
       "    }\n",
       "\n",
       "    .dataframe tbody tr th {\n",
       "        vertical-align: top;\n",
       "    }\n",
       "\n",
       "    .dataframe thead tr th {\n",
       "        text-align: left;\n",
       "    }\n",
       "</style>\n",
       "<table border=\"1\" class=\"dataframe\">\n",
       "  <thead>\n",
       "    <tr>\n",
       "      <th></th>\n",
       "      <th colspan=\"5\" halign=\"left\">AA</th>\n",
       "    </tr>\n",
       "    <tr>\n",
       "      <th></th>\n",
       "      <th>open</th>\n",
       "      <th>high</th>\n",
       "      <th>low</th>\n",
       "      <th>close</th>\n",
       "      <th>volume</th>\n",
       "    </tr>\n",
       "  </thead>\n",
       "  <tbody>\n",
       "    <tr>\n",
       "      <th>2020-09-14 00:00:00-04:00</th>\n",
       "      <td>14.19</td>\n",
       "      <td>14.220</td>\n",
       "      <td>13.870</td>\n",
       "      <td>14.050</td>\n",
       "      <td>5107849</td>\n",
       "    </tr>\n",
       "    <tr>\n",
       "      <th>2020-09-15 00:00:00-04:00</th>\n",
       "      <td>14.20</td>\n",
       "      <td>14.390</td>\n",
       "      <td>13.780</td>\n",
       "      <td>13.790</td>\n",
       "      <td>5177345</td>\n",
       "    </tr>\n",
       "    <tr>\n",
       "      <th>2020-09-16 00:00:00-04:00</th>\n",
       "      <td>13.92</td>\n",
       "      <td>14.080</td>\n",
       "      <td>13.705</td>\n",
       "      <td>13.900</td>\n",
       "      <td>4983510</td>\n",
       "    </tr>\n",
       "    <tr>\n",
       "      <th>2020-09-17 00:00:00-04:00</th>\n",
       "      <td>13.61</td>\n",
       "      <td>13.640</td>\n",
       "      <td>13.210</td>\n",
       "      <td>13.445</td>\n",
       "      <td>6638393</td>\n",
       "    </tr>\n",
       "    <tr>\n",
       "      <th>2020-09-18 00:00:00-04:00</th>\n",
       "      <td>13.48</td>\n",
       "      <td>13.805</td>\n",
       "      <td>13.300</td>\n",
       "      <td>13.320</td>\n",
       "      <td>5852604</td>\n",
       "    </tr>\n",
       "  </tbody>\n",
       "</table>\n",
       "</div>"
      ],
      "text/plain": [
       "                              AA                                 \n",
       "                            open    high     low   close   volume\n",
       "2020-09-14 00:00:00-04:00  14.19  14.220  13.870  14.050  5107849\n",
       "2020-09-15 00:00:00-04:00  14.20  14.390  13.780  13.790  5177345\n",
       "2020-09-16 00:00:00-04:00  13.92  14.080  13.705  13.900  4983510\n",
       "2020-09-17 00:00:00-04:00  13.61  13.640  13.210  13.445  6638393\n",
       "2020-09-18 00:00:00-04:00  13.48  13.805  13.300  13.320  5852604"
      ]
     },
     "execution_count": 22,
     "metadata": {},
     "output_type": "execute_result"
    }
   ],
   "source": [
    "data = api.get_barset(['AA'], '1D', limit=20).df\n",
    "data.head()"
   ]
  },
  {
   "cell_type": "code",
   "execution_count": null,
   "metadata": {},
   "outputs": [],
   "source": [
    "\n",
    "\n",
    "stocks = ['AA']\n",
    "\n",
    "rate = \n",
    "print('test:')\n",
    "print(get_data_bars(['AA'], '1D', 20, 5).head())\n",
    "\n",
    "run_checker(stocks)"
   ]
  },
  {
   "cell_type": "code",
   "execution_count": null,
   "metadata": {},
   "outputs": [],
   "source": []
  }
 ],
 "metadata": {
  "kernelspec": {
   "display_name": "Python 3",
   "language": "python",
   "name": "python3"
  },
  "language_info": {
   "codemirror_mode": {
    "name": "ipython",
    "version": 3
   },
   "file_extension": ".py",
   "mimetype": "text/x-python",
   "name": "python",
   "nbconvert_exporter": "python",
   "pygments_lexer": "ipython3",
   "version": "3.7.7"
  }
 },
 "nbformat": 4,
 "nbformat_minor": 4
}
